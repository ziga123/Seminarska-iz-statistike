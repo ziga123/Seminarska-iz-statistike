{
 "cells": [
  {
   "cell_type": "code",
   "execution_count": 25,
   "source": [
    "import pandas as pd\r\n",
    "import numpy\r\n",
    "import scipy\r\n",
    "from scipy.stats import f_oneway\r\n",
    "from matplotlib import pyplot as plt\r\n",
    "\r\n",
    "pulz = pd.read_csv('Pulz.csv')\r\n",
    "pulzO = pulz[pulz.OBREMENITEV == 1]\r\n",
    "\r\n",
    "print('Preizkusili bomo, ali obremenitev vpliva na spremembo pulza. V ta namen postavimo ničelno domnevo, da vadba ne vpliva na spremembo pulza.')\r\n",
    "n = len(pulzO)\r\n",
    "mu1 = pulzO['PULZ1'].mean()\r\n",
    "mu2 = pulzO['PULZ2'].mean()\r\n",
    "var_1 = (((pulzO['PULZ1'] - mu1) ** 2).sum() / (len(pulzO) - 1))\r\n",
    "var_2 = (((pulzO['PULZ2'] - mu2) ** 2).sum() / (len(pulzO) - 1))\r\n",
    "cov = ((pulzO['PULZ1'] - mu1).mul(pulzO['PULZ2'] - mu2)).sum() / (n - 1)\r\n",
    "se_hat = (var_1 + var_2 - 2*cov) / n # nepristranska cenilka za standardni odklon dobljene normalne porazdelitve pod predpostavke, da so X_i in Y_j porazdeljene normalno\r\n",
    "\r\n",
    "T = (mu1 - mu2) / se_hat\r\n",
    "print(T)\r\n",
    "print('Najprej preizkusimo pri stopnji tveganja 0.05. Območje, na katerem sprejmemo domnevo, je v tem primeru približno [-2.02, 2.02].')\r\n",
    "if abs(T) < 2.02:\r\n",
    "    print('Ker je abs(T) = ' + str(abs(T)) + ', domnevo sprejmemo.')\r\n",
    "else:\r\n",
    "    print('Ker je abs(T) = ' + str(abs(T)) + ', domnevo zavrnemo.')\r\n",
    "print('Še pri stopnji tveganja 0.01. Območje, na katerem domnevo sprejmemo je tokrat približno [-2.69, 2.69].')\r\n",
    "if abs(T) < 2.69:\r\n",
    "    print('Ker je abs(T) = ' + str(abs(T)) + ', domnevo sprejmemo.')\r\n",
    "else:\r\n",
    "    print('Ker je abs(T) = ' + str(abs(T)) + ', domnevo zavrnemo.')\r\n",
    "\r\n",
    "print('Še enostranski test:')\r\n",
    "print('alfa = 0.05:')\r\n",
    "if T > -1.68:\r\n",
    "    print('Ker je T = ' + str(T) + ', domnevo sprejmemo.')\r\n",
    "else:\r\n",
    "    print('Ker je T = ' + str(T) + ', domnevo zavrnemo.')\r\n",
    "print('alfa = 0.01:')\r\n",
    "if T > -2.42:\r\n",
    "    print('Ker je T = ' + str(T) + ', domnevo sprejmemo.')\r\n",
    "else:\r\n",
    "    print('Ker je T = ' + str(T) + ', domnevo zavrnemo.')"
   ],
   "outputs": [
    {
     "output_type": "stream",
     "name": "stdout",
     "text": [
      "Preizkusili bomo, ali obremenitev vpliva na spremembo pulza. V ta namen postavimo ničelno domnevo, da vadba ne vpliva na spremembo pulza.\n",
      "-5.315025285438715\n",
      "Najprej preizkusimo pri stopnji tveganja 0.05. Območje, na katerem sprejmemo domnevo, je v tem primeru približno [-2.02, 2.02].\n",
      "Ker je abs(T) = 5.315025285438715, domnevo zavrnemo.\n",
      "Še pri stopnji tveganja 0.01. Območje, na katerem domnevo sprejmemo je tokrat približno [-2.69, 2.69].\n",
      "Ker je abs(T) = 5.315025285438715, domnevo zavrnemo.\n",
      "Še enostranski test:\n",
      "alfa = 0.05:\n",
      "Ker je T = -5.315025285438715, domnevo zavrnemo.\n",
      "alfa = 0.01:\n",
      "Ker je T = -5.315025285438715, domnevo zavrnemo.\n"
     ]
    }
   ],
   "metadata": {}
  },
  {
   "cell_type": "code",
   "execution_count": 22,
   "source": [
    "razlike = abs(pulzO.PULZ1 - pulzO.PULZ2)\r\n",
    "max_razlika = max(abs(pulzO['PULZ1'] - pulzO['PULZ2']))\r\n",
    "print('Največja razlika med obema merjenjema je ' + str(max_razlika))\r\n",
    "intervali = ['0-19', '20-39', '40-59', '60-79', '80-99']\r\n",
    "l1 = len(pulzO[abs(pulzO.PULZ1 - pulzO.PULZ2) < 20])\r\n",
    "l2 = len(pulzO[20 <= razlike][razlike < 40])\r\n",
    "l3 = len(pulzO[40 <= razlike][razlike < 60])\r\n",
    "l4 = len(pulzO[60 <= razlike][razlike < 80])\r\n",
    "l5 = len(pulzO[80 <= razlike][razlike < 100])\r\n",
    "visine = [l1, l2, l3, l4, l5]\r\n",
    "\r\n",
    "plt.title('Razlike pulzov študentov z obremenitvijo')\r\n",
    "plt.bar(intervali, visine)\r\n",
    "plt.xlabel('Razlika med merjenjema')\r\n",
    "plt.ylabel('Število študentov')\r\n",
    "plt.show()\r\n",
    "print('Posebej lahko pogledamo študente, ki jim je pulz med merjenjema narastel za manj kot 20:')\r\n",
    "intervali2 = ['0-4', '5-9', '10-14', '15-19']\r\n",
    "v1 = len(pulzO[abs(pulzO.PULZ1 - pulzO.PULZ2) < 5])\r\n",
    "v2 = len(pulzO[5 <= razlike][razlike < 10])\r\n",
    "v3 = len(pulzO[10 <= razlike][razlike < 15])\r\n",
    "v4 = len(pulzO[15 <= razlike][razlike < 20])\r\n",
    "visine2 = [v1, v2, v3, v4]\r\n",
    "\r\n",
    "plt.bar(intervali2, visine2)\r\n",
    "plt.xlabel('Razlika med merjenjema')\r\n",
    "plt.ylabel('Število študentov')\r\n",
    "plt.show()\r\n",
    "print('Še s tabelo: ')\r\n",
    "pulzO[razlike < 20]"
   ],
   "outputs": [
    {
     "output_type": "stream",
     "name": "stdout",
     "text": [
      "Največja razlika med obema merjenjema je 94\n"
     ]
    },
    {
     "output_type": "stream",
     "name": "stderr",
     "text": [
      "C:\\OCaml64\\tmp/ipykernel_11960/1496465162.py:6: UserWarning: Boolean Series key will be reindexed to match DataFrame index.\n",
      "  l2 = len(pulzO[20 <= razlike][razlike < 40])\n",
      "C:\\OCaml64\\tmp/ipykernel_11960/1496465162.py:7: UserWarning: Boolean Series key will be reindexed to match DataFrame index.\n",
      "  l3 = len(pulzO[40 <= razlike][razlike < 60])\n",
      "C:\\OCaml64\\tmp/ipykernel_11960/1496465162.py:8: UserWarning: Boolean Series key will be reindexed to match DataFrame index.\n",
      "  l4 = len(pulzO[60 <= razlike][razlike < 80])\n",
      "C:\\OCaml64\\tmp/ipykernel_11960/1496465162.py:9: UserWarning: Boolean Series key will be reindexed to match DataFrame index.\n",
      "  l5 = len(pulzO[80 <= razlike][razlike < 100])\n"
     ]
    },
    {
     "output_type": "display_data",
     "data": {
      "image/png": "[encoded data removed]",
      "text/plain": [
       "<Figure size 432x288 with 1 Axes>"
      ]
     },
     "metadata": {
      "needs_background": "light"
     }
    },
    {
     "output_type": "stream",
     "name": "stdout",
     "text": [
      "Posebej lahko pogledamo študente, ki jim je pulz med merjenjema narastel za manj kot 20:\n"
     ]
    },
    {
     "output_type": "stream",
     "name": "stderr",
     "text": [
      "C:\\OCaml64\\tmp/ipykernel_11960/1496465162.py:22: UserWarning: Boolean Series key will be reindexed to match DataFrame index.\n",
      "  v4 = len(pulzO[15 <= razlike][razlike < 20])\n"
     ]
    },
    {
     "output_type": "display_data",
     "data": {
      "image/png": "[encoded data removed]",
      "text/plain": [
       "<Figure size 432x288 with 1 Axes>"
      ]
     },
     "metadata": {
      "needs_background": "light"
     }
    },
    {
     "output_type": "stream",
     "name": "stdout",
     "text": [
      "Še s tabelo: \n"
     ]
    },
    {
     "output_type": "execute_result",
     "data": {
      "text/html": [
       "<div>\n",
       "<style scoped>\n",
       "    .dataframe tbody tr th:only-of-type {\n",
       "        vertical-align: middle;\n",
       "    }\n",
       "\n",
       "    .dataframe tbody tr th {\n",
       "        vertical-align: top;\n",
       "    }\n",
       "\n",
       "    .dataframe thead th {\n",
       "        text-align: right;\n",
       "    }\n",
       "</style>\n",
       "<table border=\"1\" class=\"dataframe\">\n",
       "  <thead>\n",
       "    <tr style=\"text-align: right;\">\n",
       "      <th></th>\n",
       "      <th>VISINA</th>\n",
       "      <th>TEZA</th>\n",
       "      <th>STAROST</th>\n",
       "      <th>SPOL</th>\n",
       "      <th>KADI</th>\n",
       "      <th>ALKOHOL</th>\n",
       "      <th>VADBA</th>\n",
       "      <th>OBREMENITEV</th>\n",
       "      <th>PULZ1</th>\n",
       "      <th>PULZ2</th>\n",
       "      <th>LETO</th>\n",
       "    </tr>\n",
       "  </thead>\n",
       "  <tbody>\n",
       "    <tr>\n",
       "      <th>10</th>\n",
       "      <td>170</td>\n",
       "      <td>75.0</td>\n",
       "      <td>20</td>\n",
       "      <td>1</td>\n",
       "      <td>2</td>\n",
       "      <td>1</td>\n",
       "      <td>1</td>\n",
       "      <td>1</td>\n",
       "      <td>76</td>\n",
       "      <td>88</td>\n",
       "      <td>93</td>\n",
       "    </tr>\n",
       "    <tr>\n",
       "      <th>57</th>\n",
       "      <td>158</td>\n",
       "      <td>51.0</td>\n",
       "      <td>18</td>\n",
       "      <td>2</td>\n",
       "      <td>2</td>\n",
       "      <td>2</td>\n",
       "      <td>2</td>\n",
       "      <td>1</td>\n",
       "      <td>68</td>\n",
       "      <td>84</td>\n",
       "      <td>96</td>\n",
       "    </tr>\n",
       "    <tr>\n",
       "      <th>59</th>\n",
       "      <td>180</td>\n",
       "      <td>75.0</td>\n",
       "      <td>20</td>\n",
       "      <td>1</td>\n",
       "      <td>2</td>\n",
       "      <td>1</td>\n",
       "      <td>2</td>\n",
       "      <td>1</td>\n",
       "      <td>65</td>\n",
       "      <td>82</td>\n",
       "      <td>96</td>\n",
       "    </tr>\n",
       "    <tr>\n",
       "      <th>72</th>\n",
       "      <td>179</td>\n",
       "      <td>80.0</td>\n",
       "      <td>20</td>\n",
       "      <td>1</td>\n",
       "      <td>2</td>\n",
       "      <td>1</td>\n",
       "      <td>2</td>\n",
       "      <td>1</td>\n",
       "      <td>145</td>\n",
       "      <td>155</td>\n",
       "      <td>97</td>\n",
       "    </tr>\n",
       "  </tbody>\n",
       "</table>\n",
       "</div>"
      ],
      "text/plain": [
       "    VISINA  TEZA  STAROST  SPOL  KADI  ALKOHOL  VADBA  OBREMENITEV  PULZ1  \\\n",
       "10     170  75.0       20     1     2        1      1            1     76   \n",
       "57     158  51.0       18     2     2        2      2            1     68   \n",
       "59     180  75.0       20     1     2        1      2            1     65   \n",
       "72     179  80.0       20     1     2        1      2            1    145   \n",
       "\n",
       "    PULZ2  LETO  \n",
       "10     88    93  \n",
       "57     84    96  \n",
       "59     82    96  \n",
       "72    155    97  "
      ]
     },
     "metadata": {},
     "execution_count": 22
    }
   ],
   "metadata": {}
  },
  {
   "cell_type": "code",
   "execution_count": 23,
   "source": [
    "print('Preizkusili bomo, ali vadba vpliva na spremembo pulza. Da bomo obravnavali vse možnosti, bomo naredili tri preizkuse.')\r\n",
    "print('Najprej definiramo povprečja razlik med merjenjema pulzov za vsako skupino posebej.')\r\n",
    "pr1 = abs(pulzO[pulzO.VADBA == 1]['PULZ1'] - pulzO[pulzO.VADBA == 1]['PULZ2']).mean()\r\n",
    "pr2 = abs(pulzO[pulzO.VADBA == 2]['PULZ1'] - pulzO[pulzO.VADBA == 2]['PULZ2']).mean()\r\n",
    "pr3 = abs(pulzO[pulzO.VADBA == 3]['PULZ1'] - pulzO[pulzO.VADBA == 3]['PULZ2']).mean()\r\n",
    "print('Poglejmo si najprej primerjavo med 1 in 2. Ideja je, da za testno statistiko gledamo razliko pr1 - pr2. Ker je več ljudi v drugi skupini, bomo tu uporabili normalno aproksimacijo, ničelna domneva pa bo, da je povprečje te normalne porazdelitve enako pr1.')\r\n",
    "print('Težava je v tem, da bomo v resnici posebej aproksimirali vsoto prvih merjenje in vsoto drugih. Te spremenljivke namreč niso vse medsebojno neodvisne. Recimo smiselno je privzeti, da je drugo merjenje odvisno od prvega za isto osebo.')\r\n",
    "print('Poleg tega bomo privzeli, da sta poljubni merjenji pulza različnih oseb neodvisni.')\r\n",
    "print('Najprej moramo dobiti šibko dosledne cenilke za varianci in kovarianco. Nato nam izrek Sluckega zagotovi konvergenco.')\r\n",
    "var1_2 = ((pulzO[pulzO.VADBA == 2]['PULZ1'] - pulzO[pulzO.VADBA == 2]['PULZ1'].mean()) ** 2).sum() / (len(pulzO[pulzO.VADBA == 2]) - 1) # ocena za varianco prvega pulza v skupini 2\r\n",
    "var2_2 = ((pulzO[pulzO.VADBA == 2]['PULZ2'] - pulzO[pulzO.VADBA == 2]['PULZ2'].mean()) ** 2).sum() / (len(pulzO[pulzO.VADBA == 2]) - 1) # ocena za varianco drugega pulza v skupini 2\r\n",
    "cov_2 = ((pulzO[pulzO.VADBA == 2]['PULZ1'] - pulzO[pulzO.VADBA == 2]['PULZ1'].mean())*(pulzO[pulzO.VADBA == 2]['PULZ2'] - pulzO[pulzO.VADBA == 2]['PULZ2'].mean())).sum() / (len(pulzO[pulzO.VADBA == 2]) - 1) # ocena za kovarianco prvega in drugega merjenja\r\n",
    "T = abs((pr2 - pr1) / ((var1_2 + var2_2 + 2*cov_2) ** 0.5))\r\n",
    "print('Stopnja tveganja 0.05:')\r\n",
    "if T <= 1.96:\r\n",
    "    print('Ker je pri naših podatkih testna statistika enaka ' + str(T) + ', domnevo sprejmemo.')\r\n",
    "else:\r\n",
    "    print('Ker je pri naših podatkih testna statistika enaka ' + str(T) + ', domnevo zavrnemo.')\r\n",
    "print('Stopnja tveganja 0.01:')\r\n",
    "if T <=  2.575:\r\n",
    "    print('Ker je pri naših podatkih testna statistika enaka ' + str(T) + ', domnevo sprejmemo.')\r\n",
    "else:\r\n",
    "    print('Ker je pri naših podatkih testna statistika enaka ' + str(T) + ', domnevo zavrnemo.')\r\n",
    "\r\n",
    "print('Ponovimo za skupini 2 in 3.')\r\n",
    "T = abs((pr2 - pr3) / ((var1_2 + var2_2 + 2*cov_2) ** 0.5))\r\n",
    "print('Stopnja tveganja 0.05:')\r\n",
    "if T <= 1.96:\r\n",
    "    print('Ker je pri naših podatkih testna statistika enaka ' + str(T) + ', domnevo sprejmemo.')\r\n",
    "else:\r\n",
    "    print('Ker je pri naših podatkih testna statistika enaka ' + str(T) + ', domnevo zavrnemo.')\r\n",
    "print('Stopnja tveganja 0.01:')\r\n",
    "if T <=  2.575:\r\n",
    "    print('Ker je pri naših podatkih testna statistika enaka ' + str(T) + ', domnevo sprejmemo.')\r\n",
    "else:\r\n",
    "    print('Ker je pri naših podatkih testna statistika enaka ' + str(T) + ', domnevo zavrnemo.')\r\n",
    "\r\n",
    "print('Končno še za skupini 1 in 3. Tu bomo normalno aproksimacijo uporabili na tretji skupini, saj je ta večja.')\r\n",
    "var1_3 = ((pulzO[pulzO.VADBA == 3]['PULZ1'] - pulzO[pulzO.VADBA == 3]['PULZ1'].mean()) ** 2).sum() / (len(pulzO[pulzO.VADBA == 3]) - 1) # ocena za varianco prvega pulza v skupini 2\r\n",
    "var2_3 = ((pulzO[pulzO.VADBA == 3]['PULZ2'] - pulzO[pulzO.VADBA == 3]['PULZ2'].mean()) ** 2).sum() / (len(pulzO[pulzO.VADBA == 3]) - 1) # ocena za varianco drugega pulza v skupini 2\r\n",
    "cov_3 = ((pulzO[pulzO.VADBA == 3]['PULZ1'] - pulzO[pulzO.VADBA == 3]['PULZ1'].mean())*(pulzO[pulzO.VADBA == 3]['PULZ2'] - pulzO[pulzO.VADBA == 3]['PULZ2'].mean())).sum() / (len(pulzO[pulzO.VADBA == 3]) - 1) # ocena za kovarianco prvega in drugega merjenja\r\n",
    "T = abs((pr3 - pr1) / ((var1_3 + var2_3 + 2*cov_3) ** 0.5))\r\n",
    "print('Stopnja tveganja 0.05:')\r\n",
    "if T <= 1.96:\r\n",
    "    print('Ker je pri naših podatkih testna statistika enaka ' + str(T) + ', domnevo sprejmemo.')\r\n",
    "else:\r\n",
    "    print('Ker je pri naših podatkih testna statistika enaka ' + str(T) + ', domnevo zavrnemo.')\r\n",
    "print('Stopnja tveganja 0.01:')\r\n",
    "if T <=  2.575:\r\n",
    "    print('Ker je pri naših podatkih testna statistika enaka ' + str(T) + ', domnevo sprejmemo.')\r\n",
    "else:\r\n",
    "    print('Ker je pri naših podatkih testna statistika enaka ' + str(T) + ', domnevo zavrnemo.')"
   ],
   "outputs": [
    {
     "output_type": "stream",
     "name": "stdout",
     "text": [
      "Preizkusili bomo, ali vadba vpliva na spremembo pulza. Da bomo obravnavali vse možnosti, bomo naredili tri preizkuse.\n",
      "Najprej definiramo povprečja razlik med merjenjema pulzov za vsako skupino posebej.\n",
      "Poglejmo si najprej primerjavo med 1 in 2. Ideja je, da za testno statistiko gledamo razliko pr1 - pr2. Ker je več ljudi v drugi skupini, bomo tu uporabili normalno aproksimacijo, ničelna domneva pa bo, da je povprečje te normalne porazdelitve enako pr1.\n",
      "Težava je v tem, da bomo v resnici posebej aproksimirali vsoto prvih merjenje in vsoto drugih. Te spremenljivke namreč niso vse medsebojno neodvisne. Recimo smiselno je privzeti, da je drugo merjenje odvisno od prvega za isto osebo.\n",
      "Poleg tega bomo privzeli, da sta poljubni merjenji pulza različnih oseb neodvisni.\n",
      "Najprej moramo dobiti šibko dosledne cenilke za varianci in kovarianco. Nato nam izrek Sluckega zagotovi konvergenco.\n",
      "Stopnja tveganja 0.05:\n",
      "Ker je pri naših podatkih testna statistika enaka 0.07035663802221113, domnevo sprejmemo.\n",
      "Stopnja tveganja 0.01:\n",
      "Ker je pri naših podatkih testna statistika enaka 0.07035663802221113, domnevo sprejmemo.\n",
      "Ponovimo za skupini 2 in 3.\n",
      "Stopnja tveganja 0.05:\n",
      "Ker je pri naših podatkih testna statistika enaka 0.07598216878091674, domnevo sprejmemo.\n",
      "Stopnja tveganja 0.01:\n",
      "Ker je pri naših podatkih testna statistika enaka 0.07598216878091674, domnevo sprejmemo.\n",
      "Končno še za skupini 1 in 3. Tu bomo normalno aproksimacijo uporabili na tretji skupini, saj je ta večja.\n",
      "Stopnja tveganja 0.05:\n",
      "Ker je pri naših podatkih testna statistika enaka 0.009744630360984293, domnevo sprejmemo.\n",
      "Stopnja tveganja 0.01:\n",
      "Ker je pri naših podatkih testna statistika enaka 0.009744630360984293, domnevo sprejmemo.\n"
     ]
    }
   ],
   "metadata": {}
  },
  {
   "cell_type": "code",
   "execution_count": 30,
   "source": [
    "print('Naredimo test še z analizo variance. Pri tem bomo predpostavili, da so meritve oblike Y_ij = mi + alfa_i + epsilon_ij, kjer epsilon_ij neodvisno normalno porazdeljeni s pričakovano vrednostjo 0 in varianco sigma^2.')\r\n",
    "print('Tokrat je ničelna domneva ta, da so povprečja sprememb pulzov v vseh treh primerih enaka. Alternativna domneva pa je, da se vsaj dve povprečji razlikujeta.')\r\n",
    "I = 3\r\n",
    "J1 = len(pulzO[pulzO.VADBA == 1])\r\n",
    "J2 = len(pulzO[pulzO.VADBA == 2])\r\n",
    "J3 = len(pulzO[pulzO.VADBA == 3])\r\n",
    "print(J1, J2, J3)\r\n",
    "m = I - 1\r\n",
    "n = J1 - 1 + J2 - 1 + J3 - 1\r\n",
    "SS_w = ((abs(pulzO[pulzO.VADBA == 1]['PULZ2'] - pulzO[pulzO.VADBA == 1]['PULZ1']) - pr1) ** 2).sum() + ((abs(pulzO[pulzO.VADBA == 2]['PULZ2'] - pulzO[pulzO.VADBA == 2]['PULZ1']) - pr2) ** 2).sum() + ((abs(pulzO[pulzO.VADBA == 3]['PULZ2'] - pulzO[pulzO.VADBA == 3]['PULZ1']) - pr3) ** 2).sum()\r\n",
    "SS_b = J1*((pr1 - abs(pulzO['PULZ2'] - pulzO['PULZ1']).mean()) ** 2) + J2*((pr2 - abs(pulzO['PULZ2'] - pulzO['PULZ1']).mean()) ** 2) + J3*((pr3 - abs(pulzO['PULZ2'] - pulzO['PULZ1']).mean()) ** 2)\r\n",
    "\r\n",
    "F = (SS_b / m) / (SS_w / n)\r\n",
    "\r\n",
    "print('Stopnja tveganja 0.05:')\r\n",
    "if F <= 3.23:\r\n",
    "    print('Ker je F = ' + str(F) + ', domnevo sprejmemo.')\r\n",
    "else:\r\n",
    "    print('Ker je F = ' + str(F) + ', domnevo zavrnemo.')\r\n",
    "print('Stopnja tveganja 0.01:')\r\n",
    "if F <= 5.18:\r\n",
    "    print('Ker je F = ' + str(F) + ', domnevo sprejmemo.')\r\n",
    "else:\r\n",
    "    print('Ker je F = ' + str(F) + ', domnevo zavrnemo.')\r\n",
    "\r\n",
    "\r\n",
    "f_oneway(pulzO[pulzO.VADBA == 1]['PULZ2'] - pulzO[pulzO.VADBA == 1]['PULZ1'], pulzO[pulzO.VADBA == 2]['PULZ2'] - pulzO[pulzO.VADBA == 2]['PULZ1'], pulzO[pulzO.VADBA == 3]['PULZ2'] - pulzO[pulzO.VADBA == 3]['PULZ1'])"
   ],
   "outputs": [
    {
     "output_type": "stream",
     "name": "stdout",
     "text": [
      "Naredimo test še z analizo variance. Pri tem bomo predpostavili, da so meritve oblike Y_ij = mi + alfa_i + epsilon_ij, kjer epsilon_ij neodvisno normalno porazdeljeni s pričakovano vrednostjo 0 in varianco sigma^2.\n",
      "Tokrat je ničelna domneva ta, da so povprečja sprememb pulzov v vseh treh primerih enaka. Alternativna domneva pa je, da se vsaj dve povprečji razlikujeta.\n",
      "7 25 14\n",
      "Stopnja tveganja 0.05:\n",
      "Ker je F = 0.09837114039606573, domnevo sprejmemo.\n",
      "Stopnja tveganja 0.01:\n",
      "Ker je F = 0.09837114039606573, domnevo sprejmemo.\n"
     ]
    },
    {
     "output_type": "execute_result",
     "data": {
      "text/plain": [
       "F_onewayResult(statistic=0.09837114039606569, pvalue=0.9065158349208323)"
      ]
     },
     "metadata": {},
     "execution_count": 30
    }
   ],
   "metadata": {}
  }
 ],
 "metadata": {
  "orig_nbformat": 4,
  "language_info": {
   "name": "python",
   "version": "3.8.0",
   "mimetype": "text/x-python",
   "codemirror_mode": {
    "name": "ipython",
    "version": 3
   },
   "pygments_lexer": "ipython3",
   "nbconvert_exporter": "python",
   "file_extension": ".py"
  },
  "kernelspec": {
   "name": "python3",
   "display_name": "Python 3.8.0 32-bit (system)"
  },
  "interpreter": {
   "hash": "94aad3b30354bcb64bec21d64f749d574760ffb6f2cb1888177cf4443917677d"
  }
 },
 "nbformat": 4,
 "nbformat_minor": 2
}