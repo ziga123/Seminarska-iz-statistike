{
 "cells": [
  {
   "cell_type": "code",
   "execution_count": 7,
   "source": [
    "import pandas as pd\r\n",
    "import numpy as np\r\n",
    "import numpy.matlib\r\n",
    "import scipy\r\n",
    "from matplotlib import pyplot as plt\r\n",
    "\r\n",
    "N = 43886\r\n",
    "kiber = pd.read_csv('Kibergrad.csv')\r\n",
    "\r\n",
    "# točki a in b\r\n",
    "vzorec = pd.DataFrame(kiber.sample(n = 200))\r\n",
    "\r\n",
    "p_bar = len(vzorec[vzorec.IZOBRAZBA <= 38]) / 200\r\n",
    "print('Ocena za delež družin, v katerih vodja gospodinjstva nima srednješolske izobrazbe je ' + str(p_bar))\r\n",
    "\r\n",
    "print('Ocenimo še standardno napako:')\r\n",
    "se_bar = ((p_bar * (1 - p_bar) / 199) * (N - 200) / N) ** 0.5\r\n",
    "print('Nepristranska točkovna ocena za standardno napako stopnje izobrazbe je ' + str(se_bar))\r\n",
    "c = se_bar * 1.98 # vzel kvantil pri 120 prostostnih stopnjah kot dober približek za 199 prostostnih stopenj\r\n",
    "print('S pomočjo te ocene nato dobimo še 95 odstoten interval zaupanja [' + str(p_bar - c) + ', ' + str(p_bar + c) + '].')"
   ],
   "outputs": [
    {
     "output_type": "stream",
     "name": "stdout",
     "text": [
      "Ocena za delež družin, v katerih vodja gospodinjstva nima srednješolske izobrazbe je 0.23\n",
      "Ocenimo še standardno napako:\n",
      "Nepristranska točkovna ocena za standardno napako stopnje izobrazbe je 0.02976397175402732\n",
      "S pomočjo te ocene nato dobimo še 95 odstoten interval zaupanja [0.17106733592702592, 0.28893266407297413].\n"
     ]
    }
   ],
   "metadata": {}
  },
  {
   "cell_type": "code",
   "execution_count": 8,
   "source": [
    "# točka c\r\n",
    "p = len(kiber[kiber.IZOBRAZBA <= 38]) / N\r\n",
    "print('Populacijski delež gospodinjstev, v katerih vodja gospodinjstva nima srednješolske izobrazbe je: ' + str(p))\r\n",
    "if p >= p_bar - c and p <= p_bar + c: # priprava na točko d\r\n",
    "    stevec = 1\r\n",
    "else:\r\n",
    "    stevec = 0\r\n",
    "se = (((p * (1 - p)) / 200) * (N - 200) / (N-1)) ** 0.5\r\n",
    "print('Prava standardna napaka je: ' + str(se))"
   ],
   "outputs": [
    {
     "output_type": "stream",
     "name": "stdout",
     "text": [
      "Populacijski delež gospodinjstev, v katerih vodja gospodinjstva nima srednješolske izobrazbe je: 0.21150252928040833\n",
      "Prava standardna napaka je: 0.028810847022556974\n"
     ]
    }
   ],
   "metadata": {}
  },
  {
   "cell_type": "code",
   "execution_count": 13,
   "source": [
    "# točki d in e za vzorce velikosti 200\r\n",
    "a = [1]\r\n",
    "b = [p_bar]\r\n",
    "er = [c]\r\n",
    "\r\n",
    "odkloni_list = []\r\n",
    "odkloni_list.append((p_bar * (1 - p_bar)) ** 0.5)\r\n",
    "for x in range(99):\r\n",
    "    vzorec = pd.DataFrame(kiber.sample(n = 200))\r\n",
    "    p_bar = len(vzorec[vzorec.IZOBRAZBA <= 38]) / 200\r\n",
    "    se_bar = ((p_bar * (1 - p_bar) / 199) * (N - 200) / N) ** 0.5\r\n",
    "    c = se_bar * 1.98\r\n",
    "    if p >= p_bar - c and p <= p_bar + c:\r\n",
    "        stevec = stevec + 1\r\n",
    "\r\n",
    "    a.append(x + 2)\r\n",
    "    b.append(p_bar)\r\n",
    "    er.append(c)\r\n",
    "    odkloni_list.append((p_bar * (1 - p_bar)) ** 0.5) # odklone izračunamo in za dan vzorec in ne ocenjujemo pravega\r\n",
    "\r\n",
    "print('Število intervalov, ki pokrije populacijski delež je '+ str(stevec))\r\n",
    "plt.scatter(a,b)\r\n",
    "\r\n",
    "# plt.plot(x, p)\r\n",
    "plt.errorbar(a, b, yerr=er, fmt=\"o\")\r\n",
    "plt.show()\r\n",
    "\r\n",
    "odkloni = pd.DataFrame(odkloni_list, columns=['Odkloni'], dtype=float)\r\n",
    "print('Poglejmo še standardno napako pri vzorcu velikosti 200. Ta je enaka ' + str( ((N-200) / ((N-1)*200)) ** 0.5 * se))\r\n",
    "odkloni"
   ],
   "outputs": [
    {
     "output_type": "stream",
     "name": "stdout",
     "text": [
      "Število intervalov, ki pokrije populacijski delež je 462\n"
     ]
    },
    {
     "output_type": "display_data",
     "data": {
      "image/png": "[encoded data removed]",
      "text/plain": [
       "<Figure size 432x288 with 1 Axes>"
      ]
     },
     "metadata": {
      "needs_background": "light"
     }
    },
    {
     "output_type": "stream",
     "name": "stdout",
     "text": [
      "Poglejmo še standardno napako pri vzorcu velikosti 200. Ta je enaka 0.0020326102814534047\n"
     ]
    },
    {
     "output_type": "execute_result",
     "data": {
      "text/html": [
       "<div>\n",
       "<style scoped>\n",
       "    .dataframe tbody tr th:only-of-type {\n",
       "        vertical-align: middle;\n",
       "    }\n",
       "\n",
       "    .dataframe tbody tr th {\n",
       "        vertical-align: top;\n",
       "    }\n",
       "\n",
       "    .dataframe thead th {\n",
       "        text-align: right;\n",
       "    }\n",
       "</style>\n",
       "<table border=\"1\" class=\"dataframe\">\n",
       "  <thead>\n",
       "    <tr style=\"text-align: right;\">\n",
       "      <th></th>\n",
       "      <th>Odkloni</th>\n",
       "    </tr>\n",
       "  </thead>\n",
       "  <tbody>\n",
       "    <tr>\n",
       "      <td>0</td>\n",
       "      <td>0.384187</td>\n",
       "    </tr>\n",
       "    <tr>\n",
       "      <td>1</td>\n",
       "      <td>0.430087</td>\n",
       "    </tr>\n",
       "    <tr>\n",
       "      <td>2</td>\n",
       "      <td>0.407308</td>\n",
       "    </tr>\n",
       "    <tr>\n",
       "      <td>3</td>\n",
       "      <td>0.414246</td>\n",
       "    </tr>\n",
       "    <tr>\n",
       "      <td>4</td>\n",
       "      <td>0.414246</td>\n",
       "    </tr>\n",
       "    <tr>\n",
       "      <td>...</td>\n",
       "      <td>...</td>\n",
       "    </tr>\n",
       "    <tr>\n",
       "      <td>95</td>\n",
       "      <td>0.407308</td>\n",
       "    </tr>\n",
       "    <tr>\n",
       "      <td>96</td>\n",
       "      <td>0.388298</td>\n",
       "    </tr>\n",
       "    <tr>\n",
       "      <td>97</td>\n",
       "      <td>0.396201</td>\n",
       "    </tr>\n",
       "    <tr>\n",
       "      <td>98</td>\n",
       "      <td>0.388298</td>\n",
       "    </tr>\n",
       "    <tr>\n",
       "      <td>99</td>\n",
       "      <td>0.400000</td>\n",
       "    </tr>\n",
       "  </tbody>\n",
       "</table>\n",
       "<p>100 rows × 1 columns</p>\n",
       "</div>"
      ],
      "text/plain": [
       "     Odkloni\n",
       "0   0.384187\n",
       "1   0.430087\n",
       "2   0.407308\n",
       "3   0.414246\n",
       "4   0.414246\n",
       "..       ...\n",
       "95  0.407308\n",
       "96  0.388298\n",
       "97  0.396201\n",
       "98  0.388298\n",
       "99  0.400000\n",
       "\n",
       "[100 rows x 1 columns]"
      ]
     },
     "metadata": {},
     "execution_count": 13
    }
   ],
   "metadata": {}
  },
  {
   "cell_type": "code",
   "execution_count": 115,
   "source": [
    "# točki e in d še za 100 vzorcev velikosti 800\r\n",
    "stevec2 = 0\r\n",
    "odkloni_list2 = []\r\n",
    "for x in range(100):\r\n",
    "    vzorec = pd.DataFrame(kiber.sample(n = 800))\r\n",
    "    p_bar = len(vzorec[vzorec.IZOBRAZBA <= 38]) / 800\r\n",
    "    se_bar = ((p_bar * (1 - p_bar) / 800) * (N - 800) / (N - 1)) ** 0.5\r\n",
    "    c = se_bar * 1.98 # morda lahko vzamem tudi 1.97 vendar je razlika zanemarljiva\r\n",
    "    if p >= p_bar - c and p <= p_bar + c:\r\n",
    "        stevec2 = stevec2 + 1\r\n",
    "\r\n",
    "    odkloni_list.append((p_bar * (1 - p_bar)) ** 0.5) # odklone izračunamo in za dan vzorec in ne ocenjujemo pravega\r\n",
    "\r\n",
    "print('Število intervalov, ki pokrije populacijski delež je '+ str(stevec2))\r\n",
    "\r\n",
    "odkloni2 = pd.DataFrame(odkloni_list2, columns=['Odkloni'], dtype=float)\r\n",
    "print('Poglejmo še standardno napako pri vzorcu velikosti 200. Ta je enaka ' + str( ((N-800) / ((N-1)*800)) ** 0.5 * se))\r\n",
    "odkloni"
   ],
   "outputs": [
    {
     "output_type": "stream",
     "name": "stdout",
     "text": [
      "Število intervalov, ki pokrije populacijski delež je 93\n",
      "Poglejmo še standardno napako pri vzorcu velikosti 200. Ta je enaka 0.014306156731284972\n"
     ]
    },
    {
     "output_type": "execute_result",
     "data": {
      "text/html": [
       "<div>\n",
       "<style scoped>\n",
       "    .dataframe tbody tr th:only-of-type {\n",
       "        vertical-align: middle;\n",
       "    }\n",
       "\n",
       "    .dataframe tbody tr th {\n",
       "        vertical-align: top;\n",
       "    }\n",
       "\n",
       "    .dataframe thead th {\n",
       "        text-align: right;\n",
       "    }\n",
       "</style>\n",
       "<table border=\"1\" class=\"dataframe\">\n",
       "  <thead>\n",
       "    <tr style=\"text-align: right;\">\n",
       "      <th></th>\n",
       "      <th>Odkloni</th>\n",
       "    </tr>\n",
       "  </thead>\n",
       "  <tbody>\n",
       "    <tr>\n",
       "      <td>0</td>\n",
       "      <td>0.430087</td>\n",
       "    </tr>\n",
       "    <tr>\n",
       "      <td>1</td>\n",
       "      <td>0.357071</td>\n",
       "    </tr>\n",
       "    <tr>\n",
       "      <td>2</td>\n",
       "      <td>0.379967</td>\n",
       "    </tr>\n",
       "    <tr>\n",
       "      <td>3</td>\n",
       "      <td>0.414246</td>\n",
       "    </tr>\n",
       "    <tr>\n",
       "      <td>4</td>\n",
       "      <td>0.388298</td>\n",
       "    </tr>\n",
       "    <tr>\n",
       "      <td>...</td>\n",
       "      <td>...</td>\n",
       "    </tr>\n",
       "    <tr>\n",
       "      <td>95</td>\n",
       "      <td>0.410822</td>\n",
       "    </tr>\n",
       "    <tr>\n",
       "      <td>96</td>\n",
       "      <td>0.433013</td>\n",
       "    </tr>\n",
       "    <tr>\n",
       "      <td>97</td>\n",
       "      <td>0.435861</td>\n",
       "    </tr>\n",
       "    <tr>\n",
       "      <td>98</td>\n",
       "      <td>0.433013</td>\n",
       "    </tr>\n",
       "    <tr>\n",
       "      <td>99</td>\n",
       "      <td>0.371181</td>\n",
       "    </tr>\n",
       "  </tbody>\n",
       "</table>\n",
       "<p>100 rows × 1 columns</p>\n",
       "</div>"
      ],
      "text/plain": [
       "     Odkloni\n",
       "0   0.430087\n",
       "1   0.357071\n",
       "2   0.379967\n",
       "3   0.414246\n",
       "4   0.388298\n",
       "..       ...\n",
       "95  0.410822\n",
       "96  0.433013\n",
       "97  0.435861\n",
       "98  0.433013\n",
       "99  0.371181\n",
       "\n",
       "[100 rows x 1 columns]"
      ]
     },
     "metadata": {},
     "execution_count": 115
    }
   ],
   "metadata": {}
  }
 ],
 "metadata": {
  "orig_nbformat": 4,
  "language_info": {
   "name": "python",
   "version": "3.7.4",
   "mimetype": "text/x-python",
   "codemirror_mode": {
    "name": "ipython",
    "version": 3
   },
   "pygments_lexer": "ipython3",
   "nbconvert_exporter": "python",
   "file_extension": ".py"
  },
  "kernelspec": {
   "name": "python3",
   "display_name": "Python 3.7.4 64-bit ('base': conda)"
  },
  "interpreter": {
   "hash": "97ae724bfa85b9b34df7982b8bb8c7216f435b92902d749e4263f71162bea840"
  }
 },
 "nbformat": 4,
 "nbformat_minor": 2
}