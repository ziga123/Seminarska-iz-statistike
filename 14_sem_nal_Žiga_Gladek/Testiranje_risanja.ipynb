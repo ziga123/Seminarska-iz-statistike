{
 "cells": [
  {
   "cell_type": "code",
   "execution_count": 9,
   "source": [
    "import pandas as pd\r\n",
    "import numpy\r\n",
    "import numpy.matlib\r\n",
    "import scipy\r\n",
    "from matplotlib import pyplot as plt\r\n",
    "\r\n",
    "a = []\r\n",
    "b = []\r\n",
    "c = []\r\n",
    "\r\n",
    "for x in range(99):\r\n",
    "    a.append(x)\r\n",
    "    b.append(x*0.5723123)\r\n",
    "    c.append(1.67)\r\n",
    "\r\n",
    "plt.scatter(a, b)\r\n",
    "  \r\n",
    "plt.errorbar(a, b, yerr=c, fmt=\"o\")\r\n",
    "plt.show()"
   ],
   "outputs": [
    {
     "output_type": "display_data",
     "data": {
      "image/png": "[encoded data removed]",
      "text/plain": [
       "<Figure size 432x288 with 1 Axes>"
      ]
     },
     "metadata": {
      "needs_background": "light"
     }
    }
   ],
   "metadata": {}
  }
 ],
 "metadata": {
  "orig_nbformat": 4,
  "language_info": {
   "name": "python",
   "version": "3.7.4",
   "mimetype": "text/x-python",
   "codemirror_mode": {
    "name": "ipython",
    "version": 3
   },
   "pygments_lexer": "ipython3",
   "nbconvert_exporter": "python",
   "file_extension": ".py"
  },
  "kernelspec": {
   "name": "python3",
   "display_name": "Python 3.7.4 64-bit ('base': conda)"
  },
  "interpreter": {
   "hash": "97ae724bfa85b9b34df7982b8bb8c7216f435b92902d749e4263f71162bea840"
  }
 },
 "nbformat": 4,
 "nbformat_minor": 2
}