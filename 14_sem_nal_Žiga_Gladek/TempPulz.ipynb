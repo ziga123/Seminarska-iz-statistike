{
 "metadata": {
  "language_info": {
   "codemirror_mode": {
    "name": "ipython",
    "version": 3
   },
   "file_extension": ".py",
   "mimetype": "text/x-python",
   "name": "python",
   "nbconvert_exporter": "python",
   "pygments_lexer": "ipython3",
   "version": "3.8.0"
  },
  "orig_nbformat": 2,
  "kernelspec": {
   "name": "python3",
   "display_name": "Python 3.8.0 32-bit (system)"
  },
  "interpreter": {
   "hash": "94aad3b30354bcb64bec21d64f749d574760ffb6f2cb1888177cf4443917677d"
  }
 },
 "nbformat": 4,
 "nbformat_minor": 2,
 "cells": [
  {
   "cell_type": "code",
   "execution_count": 1,
   "source": [
    "import pandas as pd\r\n",
    "import numpy\r\n",
    "import scipy\r\n",
    "\r\n",
    "tp = pd.read_csv('TempPulz.csv')\r\n",
    "povpTemp_1 = tp[tp.SPOL == 1]['TEMPERATURA'].mean()\r\n",
    "povpTemp_2 = tp[tp.SPOL == 2]['TEMPERATURA'].mean()\r\n",
    "\r\n",
    "print('Povprečna temperatura moških v Fahrenheitovih stopinjah je ' + str(povpTemp_1) + ', \\npovprečna temperatura žensk pa ' + str(povpTemp_2) + '.')\r\n",
    "\r\n",
    "print('Ker je cenilka za povprečje linearna, operaciji povprečenja in pretvorbe iz F v C komutirata, zato lahko povprečni temperaturi v C dobimo tako, da pretvorimo že dobljeni povprečji.')\r\n",
    "print('V Celzijevih stopinjah sta povprečni temperaturi torej ' + str(5*(povpTemp_1 - 32) / 9) + ' za moške \\nin ' + str(5*(povpTemp_2 - 32) / 9) + ' za ženske.')\r\n",
    "\r\n",
    "standDev_1 = (((tp[tp.SPOL == 1].TEMPERATURA - povpTemp_1) ** 2).sum() / 64) ** 0.5\r\n",
    "standDev_2 = (((tp[tp.SPOL == 2].TEMPERATURA - povpTemp_2) ** 2).sum() / 64) ** 0.5\r\n",
    "\r\n",
    "print('Pod predpostavko, da so telesne temperature normalno porazdeljene posebej pri ženskah in pri moških, sta nepristranski oceni za standardni odklon v F naslednji:')\r\n",
    "print('Za moške dobimo ' + str(standDev_1) + ', za ženske pa ' + str(standDev_2) + '.')\r\n",
    "print('Da dobimo oceni za standardna odklona še v Celzijevih stopinjah, upoštevamo, da je uporabljena cenilka invariantna za translacijo podatkov in homogena:')\r\n",
    "print('Za moške dobimo ' + str(5*standDev_1 / 9) + ', za ženske pa ' + str(5 * standDev_2 / 9) + '.')"
   ],
   "outputs": [
    {
     "output_type": "stream",
     "name": "stdout",
     "text": [
      "Povprečna temperatura moških v Fahrenheitovih stopinjah je 98.10461538461539, \n",
      "povprečna temperatura žensk pa 98.39384615384614.\n",
      "Ker je cenilka za povprečje linearna, operaciji povprečenja in pretvorbe iz F v C komutirata, zato lahko povprečni temperaturi v C dobimo tako, da pretvorimo že dobljeni povprečji.\n",
      "V Celzijevih stopinjah sta povprečni temperaturi torej 36.72478632478632 za moške \n",
      "in 36.885470085470075 za ženske.\n",
      "Pod predpostavko, da so telesne temperature normalno porazdeljene posebej pri ženskah in pri moških, sta nepristranski oceni za standardni odklon v F naslednji:\n",
      "Za moške dobimo 0.698755762326591, za ženske pa 0.7434877527313665.\n",
      "Da dobimo oceni za standardna odklona še v Celzijevih stopinjah, upoštevamo, da je uporabljena cenilka invariantna za translacijo podatkov in homogena:\n",
      "Za moške dobimo 0.388197645736995, za ženske pa 0.4130487515174258.\n"
     ]
    }
   ],
   "metadata": {}
  },
  {
   "cell_type": "code",
   "execution_count": 2,
   "source": [
    "print('Določimo intervala zaupanja pri stopnji tveganja 0.05 v Fahrenheitovih stopinjah:')\r\n",
    "print('Ker imamo le točkovno oceno za standardni odklon, imamo le točkovno oceno za standardno napako. Potemtakem lahko dobimo eksakten interval zaupanja s pomočjo kvantilov Studentove porazdelitve.')\r\n",
    "se1 = standDev_1 / (65 ** 0.5)\r\n",
    "se2 = standDev_2 / (65 ** 0.5)\r\n",
    "\r\n",
    "# Iz tabele kvantilov Studentove porazdelitve uporabimo kvantile za 60 prostostnih stopnenj, kar je dobra aproksimacija za primer s 64 prostostnimi stopnjami.\r\n",
    "c1 = se1 * 2\r\n",
    "c2 = se2 * 2\r\n",
    "\r\n",
    "print('Eksakten interval (v F):')\r\n",
    "print('Interval zaupanja za povprečje moške telesne temperature je [' + str(povpTemp_1 - c1) + ', ' + str(povpTemp_1 + c1) + '].')\r\n",
    "print('Interval zaupanja za povprečje ženske telesne temperature je [' + str(povpTemp_2 - c2) + ', ' + str(povpTemp_2 + c2) + '].')\r\n",
    "\r\n",
    "print('Asimptotično eksakten interval (v F):')\r\n",
    "print('Interval zaupanja za povprečje moške telesne temperature je [' + str(povpTemp_1 - (se1 * 1.96)) + ', ' + str(povpTemp_1 + (se1*1.96)) + '].')\r\n",
    "print('Interval zaupanja za povprečje ženske telesne temperature je [' + str(povpTemp_2 - (se2 * 1.96)) + ', ' + str(povpTemp_2 + (se2 * 1.96)) + '].')"
   ],
   "outputs": [
    {
     "output_type": "stream",
     "name": "stdout",
     "text": [
      "Določimo intervala zaupanja pri stopnji tveganja 0.05 v Fahrenheitovih stopinjah:\n",
      "Ker imamo le točkovno oceno za standardni odklon, imamo le točkovno oceno za standardno napako. Potemtakem lahko dobimo eksakten interval zaupanja s pomočjo kvantilov Studentove porazdelitve.\n",
      "Eksakten interval:\n",
      "Interval zaupanja za povprečje moške telesne temperature je [97.93127541356967, 98.2779553556611].\n",
      "Interval zaupanja za povprečje ženske telesne temperature je [98.20940954168542, 98.57828276600686].\n",
      "Asimptotično eksakten interval:\n",
      "Interval zaupanja za povprečje moške telesne temperature je [97.93474221299059, 98.27448855624019].\n",
      "Interval zaupanja za povprečje ženske telesne temperature je [98.21309827392864, 98.57459403376365].\n"
     ]
    }
   ],
   "metadata": {}
  },
  {
   "cell_type": "code",
   "execution_count": 3,
   "source": [
    "print('Preizkusimo domnevo, da imajo moški in ženske v povprečju enako telesno temperaturo. Za te dve količini imamo na voljo le točkovni oceni, ki pa ju lahko uporabimo za obojestranki T-preizkus.')\r\n",
    "print('Ničelna domneva je torej, da sta pravi povprečji enaki. Testna statistika bo razlika povprečij deljeno z eno od ocen za standardno napako.')\r\n",
    "testna1 = (povpTemp_1 - povpTemp_2) / se1\r\n",
    "testna2 = (povpTemp_2 - povpTemp_1) / se2\r\n",
    "print('Prvi test za stopnjo tveganja 0.05:')\r\n",
    "\r\n",
    "print(testna1)\r\n",
    "print(testna2)\r\n",
    "\r\n",
    "if abs(testna1) >= 2:\r\n",
    "    print('Ker je ' +  str(abs(testna1)) + ' >= ' + str(2) + ', ničelno domnevo zavrnemo.')\r\n",
    "else:\r\n",
    "    print('Ker je ' +  str(abs(testna1)) + ' >= ' + str(2) + ', ničelno domnevo sprejmemo.')\r\n",
    "\r\n",
    "print('Drugi test za stopnjo tveganja 0.05:')\r\n",
    "if abs(testna2) >= 2:\r\n",
    "    print('Ker je ' +  str(abs(testna2)) + ' >= ' + str(2) + ', ničelno domnevo zavrnemo.')\r\n",
    "else:\r\n",
    "    print('Ker je ' +  str(abs(testna2)) + ' >= ' + str(2) + ', ničelno domnevo sprejmemo.')\r\n",
    "\r\n",
    "print('Prvi test za stopnjo tveganja 0.01:')\r\n",
    "if abs(testna1) >= 2.66:\r\n",
    "    print('Ker je ' +  str(abs(testna1)) + ' >= ' + str(2.66) + ', ničelno domnevo zavrnemo.')\r\n",
    "else:\r\n",
    "    print('Ker je ' +  str(abs(testna1)) + ' >= ' + str(2.66) + ', ničelno domnevo sprejmemo.')\r\n",
    "\r\n",
    "print('Drugi test za stopnjo tveganja 0.01:')\r\n",
    "if abs(testna2) >= 2.66:\r\n",
    "    print('Ker je ' +  str(abs(testna2)) + ' >= ' + str(2.66) + ', ničelno domnevo zavrnemo.')\r\n",
    "else:\r\n",
    "    print('Ker je ' +  str(abs(testna2)) + ' >= ' + str(2.66) + ', ničelno domnevo sprejmemo.')"
   ],
   "outputs": [
    {
     "output_type": "stream",
     "name": "stdout",
     "text": [
      "Preizkusimo domnevo, da imajo moški in ženske v povprečju enako telesno temperaturo. Za te dve količini imamo na voljo le točkovni oceni, ki pa ju lahko uporabimo za obojestranki T-preizkus.\n",
      "Ničelna domneva je torej, da sta pravi povprečji enaki. Testna statistika bo razlika povprečij deljeno z eno od ocen za standardno napako.\n",
      "Prvi test za stopnjo tveganja 0.05:\n",
      "-3.3371503120243666\n",
      "3.136370440145692\n",
      "Ker je 3.3371503120243666 >= 2, ničelno domnevo zavrnemo.\n",
      "Drugi test za stopnjo tveganja 0.05:\n",
      "Ker je 3.136370440145692 >= 2, ničelno domnevo zavrnemo.\n",
      "Prvi test za stopnjo tveganja 0.01:\n",
      "Ker je 3.3371503120243666 >= 2.66, ničelno domnevo zavrnemo.\n",
      "Drugi test za stopnjo tveganja 0.01:\n",
      "Ker je 3.136370440145692 >= 2.66, ničelno domnevo zavrnemo.\n"
     ]
    }
   ],
   "metadata": {}
  }
 ]
}